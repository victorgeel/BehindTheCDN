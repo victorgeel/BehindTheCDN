{
  "nbformat": 4,
  "nbformat_minor": 0,
  "metadata": {
    "colab": {
      "provenance": [],
      "authorship_tag": "ABX9TyOFZ39cwbf3MLNFkfNkM4CP",
      "include_colab_link": true
    },
    "kernelspec": {
      "name": "python3",
      "display_name": "Python 3"
    },
    "language_info": {
      "name": "python"
    }
  },
  "cells": [
    {
      "cell_type": "markdown",
      "metadata": {
        "id": "view-in-github",
        "colab_type": "text"
      },
      "source": [
        "<a href=\"https://colab.research.google.com/github/victorgeel/BehindTheCDN/blob/main/Behind_cdn.ipynb\" target=\"_parent\"><img src=\"https://colab.research.google.com/assets/colab-badge.svg\" alt=\"Open In Colab\"/></a>"
      ]
    },
    {
      "cell_type": "markdown",
      "source": [
        "#Git Clone and Run"
      ],
      "metadata": {
        "id": "GPTLEcJZFACt"
      }
    },
    {
      "cell_type": "code",
      "execution_count": 1,
      "metadata": {
        "colab": {
          "base_uri": "https://localhost:8080/",
          "height": 516
        },
        "id": "TaLUC8LL9_ya",
        "outputId": "2b58d659-2fc6-4b10-aa72-9946b51645c5"
      },
      "outputs": [
        {
          "output_type": "stream",
          "name": "stdout",
          "text": [
            "fatal: destination path 'cloudflare-origin-ip' already exists and is not an empty directory.\n",
            "/content/cloudflare-origin-ip\n",
            "Collecting argparse (from -r requirements.txt (line 1))\n",
            "  Using cached argparse-1.4.0-py2.py3-none-any.whl (23 kB)\n",
            "Requirement already satisfied: requests in /usr/local/lib/python3.10/dist-packages (from -r requirements.txt (line 2)) (2.31.0)\n",
            "Requirement already satisfied: tldextract in /usr/local/lib/python3.10/dist-packages (from -r requirements.txt (line 3)) (5.0.1)\n",
            "Requirement already satisfied: termcolor in /usr/local/lib/python3.10/dist-packages (from -r requirements.txt (line 4)) (2.3.0)\n",
            "Requirement already satisfied: netaddr in /usr/local/lib/python3.10/dist-packages (from -r requirements.txt (line 5)) (0.9.0)\n",
            "Requirement already satisfied: partial in /usr/local/lib/python3.10/dist-packages (from -r requirements.txt (line 6)) (1.0)\n",
            "Requirement already satisfied: charset-normalizer<4,>=2 in /usr/local/lib/python3.10/dist-packages (from requests->-r requirements.txt (line 2)) (3.3.1)\n",
            "Requirement already satisfied: idna<4,>=2.5 in /usr/local/lib/python3.10/dist-packages (from requests->-r requirements.txt (line 2)) (3.4)\n",
            "Requirement already satisfied: urllib3<3,>=1.21.1 in /usr/local/lib/python3.10/dist-packages (from requests->-r requirements.txt (line 2)) (2.0.7)\n",
            "Requirement already satisfied: certifi>=2017.4.17 in /usr/local/lib/python3.10/dist-packages (from requests->-r requirements.txt (line 2)) (2023.7.22)\n",
            "Requirement already satisfied: requests-file>=1.4 in /usr/local/lib/python3.10/dist-packages (from tldextract->-r requirements.txt (line 3)) (1.5.1)\n",
            "Requirement already satisfied: filelock>=3.0.8 in /usr/local/lib/python3.10/dist-packages (from tldextract->-r requirements.txt (line 3)) (3.12.4)\n",
            "Requirement already satisfied: six in /usr/local/lib/python3.10/dist-packages (from requests-file>=1.4->tldextract->-r requirements.txt (line 3)) (1.16.0)\n",
            "Installing collected packages: argparse\n",
            "Successfully installed argparse-1.4.0\n"
          ]
        },
        {
          "output_type": "display_data",
          "data": {
            "application/vnd.colab-display-data+json": {
              "pip_warning": {
                "packages": [
                  "argparse"
                ]
              }
            }
          },
          "metadata": {}
        }
      ],
      "source": [
        "!git clone https://github.com/gwen001/cloudflare-origin-ip\n",
        "%cd cloudflare-origin-ip\n",
        "!pip3 install -r requirements.txt"
      ]
    },
    {
      "cell_type": "markdown",
      "source": [
        "#Remove 👇👇 Emoji and replace with URL.."
      ],
      "metadata": {
        "id": "sPcBoi2PEtnp"
      }
    },
    {
      "cell_type": "code",
      "source": [
        "!python3 cloudflare-origin-ip.py -u 👇👇👇 -s censys,crtsh"
      ],
      "metadata": {
        "colab": {
          "base_uri": "https://localhost:8080/"
        },
        "id": "f6lThlqiAXax",
        "outputId": "7d1c1e66-fbd4-4d5b-8caf-edaf6c295e66"
      },
      "execution_count": 7,
      "outputs": [
        {
          "output_type": "stream",
          "name": "stdout",
          "text": [
            "\n",
            "        _                 _  __ _                              _       _          _\n",
            "    ___| | ___  _   _  __| |/ _| | __ _ _ __ ___     ___  _ __(_) __ _(_)_ __    (_)_ __        _ __  _   _\n",
            "   / __| |/ _ \\| | | |/ _` | |_| |/ _` | '__/ _ \\   / _ \\| '__| |/ _` | | '_ \\   | | '_ \\      | '_ \\| | | |\n",
            "  | (__| | (_) | |_| | (_| |  _| | (_| | | |  __/  | (_) | |  | | (_| | | | | |  | | |_) |  _  | |_) | |_| |\n",
            "   \\___|_|\\___/ \\__,_|\\__,_|_| |_|\\__,_|_|  \\___|   \\___/|_|  |_|\\__, |_|_| |_|  |_| .__/  (_) | .__/ \\__, |\n",
            "                                                                 |___/             |_|         |_|    |___/\n",
            "\n",
            "                                by @gwendallecoguic\n",
            "\n",
            "\n",
            "\u001b[31m[-] error occured: CENSYS_UID or CENSYS_SECRET not found, Censys removed from sources\u001b[0m\n",
            "[+] Grab data from crt.sh\n",
            "\u001b[32m[+] 0 subdomains found, 0 ips added\u001b[0m\n",
            "[+] 0 unique ips collected\n"
          ]
        }
      ]
    }
  ]
}