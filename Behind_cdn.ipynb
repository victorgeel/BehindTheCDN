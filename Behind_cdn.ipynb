{
  "nbformat": 4,
  "nbformat_minor": 0,
  "metadata": {
    "colab": {
      "provenance": [],
      "authorship_tag": "ABX9TyMD6Fr8O0oVA4UN0ZvqrJ+o",
      "include_colab_link": true
    },
    "kernelspec": {
      "name": "python3",
      "display_name": "Python 3"
    },
    "language_info": {
      "name": "python"
    }
  },
  "cells": [
    {
      "cell_type": "markdown",
      "metadata": {
        "id": "view-in-github",
        "colab_type": "text"
      },
      "source": [
        "<a href=\"https://colab.research.google.com/github/victorgeel/BehindTheCDN/blob/main/Behind_cdn.ipynb\" target=\"_parent\"><img src=\"https://colab.research.google.com/assets/colab-badge.svg\" alt=\"Open In Colab\"/></a>"
      ]
    },
    {
      "cell_type": "code",
      "execution_count": 1,
      "metadata": {
        "colab": {
          "base_uri": "https://localhost:8080/",
          "height": 516
        },
        "id": "TaLUC8LL9_ya",
        "outputId": "2b58d659-2fc6-4b10-aa72-9946b51645c5"
      },
      "outputs": [
        {
          "output_type": "stream",
          "name": "stdout",
          "text": [
            "fatal: destination path 'cloudflare-origin-ip' already exists and is not an empty directory.\n",
            "/content/cloudflare-origin-ip\n",
            "Collecting argparse (from -r requirements.txt (line 1))\n",
            "  Using cached argparse-1.4.0-py2.py3-none-any.whl (23 kB)\n",
            "Requirement already satisfied: requests in /usr/local/lib/python3.10/dist-packages (from -r requirements.txt (line 2)) (2.31.0)\n",
            "Requirement already satisfied: tldextract in /usr/local/lib/python3.10/dist-packages (from -r requirements.txt (line 3)) (5.0.1)\n",
            "Requirement already satisfied: termcolor in /usr/local/lib/python3.10/dist-packages (from -r requirements.txt (line 4)) (2.3.0)\n",
            "Requirement already satisfied: netaddr in /usr/local/lib/python3.10/dist-packages (from -r requirements.txt (line 5)) (0.9.0)\n",
            "Requirement already satisfied: partial in /usr/local/lib/python3.10/dist-packages (from -r requirements.txt (line 6)) (1.0)\n",
            "Requirement already satisfied: charset-normalizer<4,>=2 in /usr/local/lib/python3.10/dist-packages (from requests->-r requirements.txt (line 2)) (3.3.1)\n",
            "Requirement already satisfied: idna<4,>=2.5 in /usr/local/lib/python3.10/dist-packages (from requests->-r requirements.txt (line 2)) (3.4)\n",
            "Requirement already satisfied: urllib3<3,>=1.21.1 in /usr/local/lib/python3.10/dist-packages (from requests->-r requirements.txt (line 2)) (2.0.7)\n",
            "Requirement already satisfied: certifi>=2017.4.17 in /usr/local/lib/python3.10/dist-packages (from requests->-r requirements.txt (line 2)) (2023.7.22)\n",
            "Requirement already satisfied: requests-file>=1.4 in /usr/local/lib/python3.10/dist-packages (from tldextract->-r requirements.txt (line 3)) (1.5.1)\n",
            "Requirement already satisfied: filelock>=3.0.8 in /usr/local/lib/python3.10/dist-packages (from tldextract->-r requirements.txt (line 3)) (3.12.4)\n",
            "Requirement already satisfied: six in /usr/local/lib/python3.10/dist-packages (from requests-file>=1.4->tldextract->-r requirements.txt (line 3)) (1.16.0)\n",
            "Installing collected packages: argparse\n",
            "Successfully installed argparse-1.4.0\n"
          ]
        },
        {
          "output_type": "display_data",
          "data": {
            "application/vnd.colab-display-data+json": {
              "pip_warning": {
                "packages": [
                  "argparse"
                ]
              }
            }
          },
          "metadata": {}
        }
      ],
      "source": [
        "!git clone https://github.com/gwen001/cloudflare-origin-ip\n",
        "%cd cloudflare-origin-ip\n",
        "!pip3 install -r requirements.txt"
      ]
    },
    {
      "cell_type": "code",
      "source": [
        "!python3 cloudflare-origin-ip.py -u https://www.dtac.co.th -s censys,crtsh"
      ],
      "metadata": {
        "colab": {
          "base_uri": "https://localhost:8080/"
        },
        "id": "f6lThlqiAXax",
        "outputId": "c4fe990c-850d-4b2c-ca31-3a4845f8fd22"
      },
      "execution_count": 5,
      "outputs": [
        {
          "output_type": "stream",
          "name": "stdout",
          "text": [
            "\n",
            "        _                 _  __ _                              _       _          _\n",
            "    ___| | ___  _   _  __| |/ _| | __ _ _ __ ___     ___  _ __(_) __ _(_)_ __    (_)_ __        _ __  _   _\n",
            "   / __| |/ _ \\| | | |/ _` | |_| |/ _` | '__/ _ \\   / _ \\| '__| |/ _` | | '_ \\   | | '_ \\      | '_ \\| | | |\n",
            "  | (__| | (_) | |_| | (_| |  _| | (_| | | |  __/  | (_) | |  | | (_| | | | | |  | | |_) |  _  | |_) | |_| |\n",
            "   \\___|_|\\___/ \\__,_|\\__,_|_| |_|\\__,_|_|  \\___|   \\___/|_|  |_|\\__, |_|_| |_|  |_| .__/  (_) | .__/ \\__, |\n",
            "                                                                 |___/             |_|         |_|    |___/\n",
            "\n",
            "                                by @gwendallecoguic\n",
            "\n",
            "\n",
            "\u001b[31m[-] error occured: CENSYS_UID or CENSYS_SECRET not found, Censys removed from sources\u001b[0m\n",
            "[+] Grab data from crt.sh\n",
            "\u001b[32m[+] 202 subdomains found, 45 ips added\u001b[0m\n",
            "[+] 45 unique ips collected\n",
            "[+] Performing reference request...\n",
            "\u001b[36mStatus=200, Length=375804, Headers=15, Content-Type=text/html; charset=UTF-8\u001b[0m\n",
            "[+] Testing bypass...\n",
            "\u001b[31m[-] 52.84.125.87: HTTPSConnectionPool(host='52.84.125.87', port=443): Max retries exceeded with url: / (Caused by SSLError(SSLError(1, '[SSL: SSLV3_ALERT_HANDSHAKE_FAILURE] sslv3 alert handshake failure (_ssl.c:1007)')))\u001b[0m\n",
            "\u001b[31m[-] 18.154.185.125: HTTPSConnectionPool(host='18.154.185.125', port=443): Max retries exceeded with url: / (Caused by SSLError(SSLError(1, '[SSL: SSLV3_ALERT_HANDSHAKE_FAILURE] sslv3 alert handshake failure (_ssl.c:1007)')))\u001b[0m\n",
            "\u001b[31m[-] 77.81.65.2: HTTPSConnectionPool(host='77.81.65.2', port=443): Max retries exceeded with url: / (Caused by NewConnectionError('<urllib3.connection.HTTPSConnection object at 0x7cdcba40c3a0>: Failed to establish a new connection: [Errno 111] Connection refused'))\u001b[0m\n",
            "\u001b[31m[-] 13.226.22.49: HTTPSConnectionPool(host='13.226.22.49', port=443): Max retries exceeded with url: / (Caused by SSLError(SSLError(1, '[SSL: SSLV3_ALERT_HANDSHAKE_FAILURE] sslv3 alert handshake failure (_ssl.c:1007)')))\u001b[0m\n",
            "76.76.21.123 is not a good candidate with an average similarity of 32%\n",
            "\u001b[97mStatus=404 (0%), Length=67 (3%), Headers=9 (57%), Content-Type=text/plain; charset=utf-8 (66%)\u001b[0m\n",
            "151.101.65.195 is not a good candidate with an average similarity of 37%\n",
            "\u001b[97mStatus=404 (0%), Length=10601 (5%), Headers=13 (54%), Content-Type=text/html; charset=utf-8 (87%)\u001b[0m\n",
            "\u001b[31m[-] 188.166.198.99: HTTPSConnectionPool(host='a.s1.shareinvestor.app', port=443): Max retries exceeded with url: / (Caused by SSLError(SSLError(1, '[SSL: SSLV3_ALERT_HANDSHAKE_FAILURE] sslv3 alert handshake failure (_ssl.c:1007)')))\u001b[0m\n",
            "202.91.17.104 is not a good candidate with an average similarity of 32%\n",
            "\u001b[97mStatus=403 (0%), Length=209 (8%), Headers=7 (55%), Content-Type=text/html; charset=iso-8859-1 (66%)\u001b[0m\n",
            "\u001b[31m[-] 54.230.18.23: HTTPSConnectionPool(host='54.230.18.23', port=443): Max retries exceeded with url: / (Caused by SSLError(SSLError(1, '[SSL: SSLV3_ALERT_HANDSHAKE_FAILURE] sslv3 alert handshake failure (_ssl.c:1007)')))\u001b[0m\n",
            "35.186.203.27 is not a good candidate with an average similarity of 30%\n",
            "\u001b[97mStatus=404 (0%), Length=74 (4%), Headers=5 (50%), Content-Type=text/plain; charset=utf-8 (66%)\u001b[0m\n",
            "61.90.215.14 is not a good candidate with an average similarity of 49%\n",
            "\u001b[97mStatus=200 (100%), Length=701 (10%), Headers=8 (48%), Content-Type=text/html (37%)\u001b[0m\n",
            "151.101.1.195 is not a good candidate with an average similarity of 37%\n",
            "\u001b[97mStatus=404 (0%), Length=10601 (5%), Headers=13 (54%), Content-Type=text/html; charset=utf-8 (87%)\u001b[0m\n",
            "199.60.103.226 is not a good candidate with an average similarity of 23%\n",
            "\u001b[97mStatus=403 (0%), Length=151 (7%), Headers=6 (50%), Content-Type=text/html (37%)\u001b[0m\n",
            "199.60.103.228 is not a good candidate with an average similarity of 23%\n",
            "\u001b[97mStatus=403 (0%), Length=151 (7%), Headers=6 (50%), Content-Type=text/html (37%)\u001b[0m\n",
            "52.221.127.179 is not a good candidate with an average similarity of 24%\n",
            "\u001b[97mStatus=404 (0%), Length=146 (7%), Headers=9 (53%), Content-Type=text/html (37%)\u001b[0m\n",
            "\u001b[31m[-] 202.91.22.163: HTTPSConnectionPool(host='202.91.22.163', port=443): Max retries exceeded with url: / (Caused by ConnectTimeoutError(<urllib3.connection.HTTPSConnection object at 0x7cdcba40d270>, 'Connection to 202.91.22.163 timed out. (connect timeout=3)'))\u001b[0m\n",
            "\u001b[31m[-] 202.91.22.17: HTTPSConnectionPool(host='202.91.22.17', port=443): Max retries exceeded with url: / (Caused by ConnectTimeoutError(<urllib3.connection.HTTPSConnection object at 0x7cdcba40f5b0>, 'Connection to 202.91.22.17 timed out. (connect timeout=3)'))\u001b[0m\n",
            "\u001b[31m[-] 202.91.22.194: HTTPSConnectionPool(host='202.91.22.194', port=443): Max retries exceeded with url: / (Caused by ConnectTimeoutError(<urllib3.connection.HTTPSConnection object at 0x7cdcba148790>, 'Connection to 202.91.22.194 timed out. (connect timeout=3)'))\u001b[0m\n",
            "\u001b[31m[-] 202.91.21.1: HTTPSConnectionPool(host='202.91.21.1', port=443): Max retries exceeded with url: / (Caused by ConnectTimeoutError(<urllib3.connection.HTTPSConnection object at 0x7cdcba149060>, 'Connection to 202.91.21.1 timed out. (connect timeout=3)'))\u001b[0m\n",
            "\u001b[31m[-] 202.91.17.102: HTTPSConnectionPool(host='202.91.17.102', port=443): Max retries exceeded with url: / (Caused by ConnectTimeoutError(<urllib3.connection.HTTPSConnection object at 0x7cdcba14aad0>, 'Connection to 202.91.17.102 timed out. (connect timeout=3)'))\u001b[0m\n",
            "\u001b[31m[-] 52.220.194.76: HTTPSConnectionPool(host='52.220.194.76', port=443): Max retries exceeded with url: / (Caused by ConnectTimeoutError(<urllib3.connection.HTTPSConnection object at 0x7cdcba40fe20>, 'Connection to 52.220.194.76 timed out. (connect timeout=3)'))\u001b[0m\n",
            "\u001b[31m[-] 202.91.22.193: HTTPSConnectionPool(host='202.91.22.193', port=443): Max retries exceeded with url: / (Caused by ConnectTimeoutError(<urllib3.connection.HTTPSConnection object at 0x7cdcba40f6d0>, 'Connection to 202.91.22.193 timed out. (connect timeout=3)'))\u001b[0m\n",
            "\u001b[31m[-] 202.91.17.72: ('Connection aborted.', ConnectionResetError(104, 'Connection reset by peer'))\u001b[0m\n",
            "18.136.108.232 is not a good candidate with an average similarity of 40%\n",
            "\u001b[97mStatus=404 (0%), Length=139 (11%), Headers=11 (61%), Content-Type=text/html; charset=utf-8 (87%)\u001b[0m\n",
            "111.84.53.161 is not a good candidate with an average similarity of 23%\n",
            "\u001b[97mStatus=503 (0%), Length=107 (6%), Headers=3 (50%), Content-Type=text/html (37%)\u001b[0m\n",
            "\u001b[31m[-] 202.91.22.218: HTTPSConnectionPool(host='202.91.22.218', port=443): Max retries exceeded with url: / (Caused by ConnectTimeoutError(<urllib3.connection.HTTPSConnection object at 0x7cdcba14b7f0>, 'Connection to 202.91.22.218 timed out. (connect timeout=3)'))\u001b[0m\n",
            "\u001b[31m[-] 52.96.226.184: HTTPSConnectionPool(host='52.96.226.184', port=443): Max retries exceeded with url: / (Caused by NewConnectionError('<urllib3.connection.HTTPSConnection object at 0x7cdcba1a8280>: Failed to establish a new connection: [Errno 111] Connection refused'))\u001b[0m\n",
            "202.91.16.133 is not a good candidate with an average similarity of 48%\n",
            "\u001b[97mStatus=200 (100%), Length=57 (4%), Headers=10 (53%), Content-Type=text/html (37%)\u001b[0m\n",
            "\u001b[31m[-] 65.8.49.95: HTTPSConnectionPool(host='65.8.49.95', port=443): Max retries exceeded with url: / (Caused by SSLError(SSLError(1, '[SSL: SSLV3_ALERT_HANDSHAKE_FAILURE] sslv3 alert handshake failure (_ssl.c:1007)')))\u001b[0m\n",
            "111.84.49.229 is not a good candidate with an average similarity of 31%\n",
            "\u001b[97mStatus=403 (0%), Length=288 (9%), Headers=5 (51%), Content-Type=text/html; charset=iso-8859-1 (66%)\u001b[0m\n",
            "\u001b[31m[-] 202.91.22.11: HTTPSConnectionPool(host='202.91.22.11', port=443): Max retries exceeded with url: / (Caused by ConnectTimeoutError(<urllib3.connection.HTTPSConnection object at 0x7cdcba14add0>, 'Connection to 202.91.22.11 timed out. (connect timeout=3)'))\u001b[0m\n",
            "18.139.78.130 is not a good candidate with an average similarity of 50%\n",
            "\u001b[97mStatus=200 (100%), Length=11621 (10%), Headers=9 (54%), Content-Type=text/html (37%)\u001b[0m\n",
            "34.246.127.31 is not a good candidate with an average similarity of 20%\n",
            "\u001b[97mStatus=404 (0%), Length=16 (1%), Headers=4 (50%), Content-Type=text/plain (29%)\u001b[0m\n",
            "52.16.147.193 is not a good candidate with an average similarity of 15%\n",
            "\u001b[97mStatus=404 (0%), Length=135 (5%), Headers=5 (43%), Content-Type=application/json (12%)\u001b[0m\n",
            "52.112.66.203 is not a good candidate with an average similarity of 20%\n",
            "\u001b[97mStatus=404 (0%), Length=75 (3%), Headers=6 (49%), Content-Type=text/plain (29%)\u001b[0m\n",
            "18.136.56.53 is not a good candidate with an average similarity of 40%\n",
            "\u001b[97mStatus=404 (0%), Length=139 (11%), Headers=11 (61%), Content-Type=text/html; charset=utf-8 (87%)\u001b[0m\n",
            "128.199.240.117 is not a good candidate with an average similarity of 52%\n",
            "\u001b[97mStatus=200 (100%), Length=812 (13%), Headers=12 (58%), Content-Type=text/html (37%)\u001b[0m\n",
            "\u001b[31m[-] 111.84.49.126: HTTPSConnectionPool(host='111.84.49.126', port=443): Max retries exceeded with url: / (Caused by ConnectTimeoutError(<urllib3.connection.HTTPSConnection object at 0x7cdcba40e7d0>, 'Connection to 111.84.49.126 timed out. (connect timeout=3)'))\u001b[0m\n",
            "\u001b[31m[-] 202.91.22.129: HTTPSConnectionPool(host='202.91.22.129', port=443): Max retries exceeded with url: / (Caused by ConnectTimeoutError(<urllib3.connection.HTTPSConnection object at 0x7cdcba40e890>, 'Connection to 202.91.22.129 timed out. (connect timeout=3)'))\u001b[0m\n",
            "\u001b[32m202.91.16.169\u001b[0m is a GOOD candidate with an average similarity of 99%\n",
            "\u001b[97mStatus=200 (100%), Length=375804 (100%), Headers=15 (99%), Content-Type=text/html; charset=UTF-8 (100%)\u001b[0m\n",
            "34.102.247.132 is not a good candidate with an average similarity of 30%\n",
            "\u001b[97mStatus=404 (0%), Length=74 (4%), Headers=5 (50%), Content-Type=text/plain; charset=utf-8 (66%)\u001b[0m\n",
            "203.146.107.1 is not a good candidate with an average similarity of 58%\n",
            "\u001b[97mStatus=404 (0%), Length=85147 (37%), Headers=15 (98%), Content-Type=text/html; charset=UTF-8 (100%)\u001b[0m\n",
            "52.112.66.206 is not a good candidate with an average similarity of 36%\n",
            "\u001b[97mStatus=200 (100%), Length=0 (0%), Headers=5 (47%), Content-Type= (0%)\u001b[0m\n",
            "18.138.179.210 is not a good candidate with an average similarity of 47%\n",
            "\u001b[97mStatus=200 (100%), Length=47 (3%), Headers=8 (50%), Content-Type=text/html (37%)\u001b[0m\n",
            "\u001b[31m[-] 27.254.77.214: HTTPSConnectionPool(host='27.254.77.214', port=443): Max retries exceeded with url: / (Caused by ConnectTimeoutError(<urllib3.connection.HTTPSConnection object at 0x7cdcba40c190>, 'Connection to 27.254.77.214 timed out. (connect timeout=3)'))\u001b[0m\n"
          ]
        }
      ]
    }
  ]
}