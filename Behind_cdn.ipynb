{
  "nbformat": 4,
  "nbformat_minor": 0,
  "metadata": {
    "colab": {
      "provenance": [],
      "authorship_tag": "ABX9TyOFZ39cwbf3MLNFkfNkM4CP",
      "include_colab_link": true
    },
    "kernelspec": {
      "name": "python3",
      "display_name": "Python 3"
    },
    "language_info": {
      "name": "python"
    }
  },
  "cells": [
    {
      "cell_type": "markdown",
      "metadata": {
        "id": "view-in-github",
        "colab_type": "text"
      },
      "source": [
        "<a href=\"https://colab.research.google.com/github/victorgeel/BehindTheCDN/blob/main/Behind_cdn.ipynb\" target=\"_parent\"><img src=\"https://colab.research.google.com/assets/colab-badge.svg\" alt=\"Open In Colab\"/></a>"
      ]
    },
    {
      "cell_type": "markdown",
      "source": [
        "#Git Clone and Run"
      ],
      "metadata": {
        "id": "GPTLEcJZFACt"
      }
    },
    {
      "cell_type": "code",
      "execution_count": null,
      "metadata": {
        "id": "TaLUC8LL9_ya"
      },
      "outputs": [],
      "source": [
        "!git clone https://github.com/gwen001/cloudflare-origin-ip\n",
        "%cd cloudflare-origin-ip\n",
        "!pip3 install -r requirements.txt"
      ]
    },
    {
      "cell_type": "markdown",
      "source": [
        "#Remove 👇👇 Emoji and replace with URL.."
      ],
      "metadata": {
        "id": "sPcBoi2PEtnp"
      }
    },
    {
      "cell_type": "code",
      "source": [
        "!python3 cloudflare-origin-ip.py -u 👇👇👇 -s censys,crtsh"
      ],
      "metadata": {
        "colab": {
          "base_uri": "https://localhost:8080/"
        },
        "id": "f6lThlqiAXax",
        "outputId": "300ff09b-b3e9-4428-c783-52f6a4eaa683"
      },
      "execution_count": 8,
      "outputs": [
        {
          "output_type": "stream",
          "name": "stdout",
          "text": [
            "\n",
            "        _                 _  __ _                              _       _          _\n",
            "    ___| | ___  _   _  __| |/ _| | __ _ _ __ ___     ___  _ __(_) __ _(_)_ __    (_)_ __        _ __  _   _\n",
            "   / __| |/ _ \\| | | |/ _` | |_| |/ _` | '__/ _ \\   / _ \\| '__| |/ _` | | '_ \\   | | '_ \\      | '_ \\| | | |\n",
            "  | (__| | (_) | |_| | (_| |  _| | (_| | | |  __/  | (_) | |  | | (_| | | | | |  | | |_) |  _  | |_) | |_| |\n",
            "   \\___|_|\\___/ \\__,_|\\__,_|_| |_|\\__,_|_|  \\___|   \\___/|_|  |_|\\__, |_|_| |_|  |_| .__/  (_) | .__/ \\__, |\n",
            "                                                                 |___/             |_|         |_|    |___/\n",
            "\n",
            "                                by @gwendallecoguic\n",
            "\n",
            "\n",
            "\u001b[31m[-] error occured: CENSYS_UID or CENSYS_SECRET not found, Censys removed from sources\u001b[0m\n",
            "[+] Grab data from crt.sh\n",
            "\u001b[32m[+] 0 subdomains found, 0 ips added\u001b[0m\n",
            "[+] 0 unique ips collected\n"
          ]
        }
      ]
    }
  ]
}